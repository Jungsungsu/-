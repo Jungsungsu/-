{
 "cells": [
  {
   "cell_type": "code",
   "execution_count": 1,
   "id": "d492a6cf",
   "metadata": {},
   "outputs": [
    {
     "name": "stdout",
     "output_type": "stream",
     "text": [
      "[ Global Corona Data ]\n"
     ]
    },
    {
     "ename": "KeyError",
     "evalue": "'cases'",
     "output_type": "error",
     "traceback": [
      "\u001b[1;31m---------------------------------------------------------------------------\u001b[0m",
      "\u001b[1;31mKeyError\u001b[0m                                  Traceback (most recent call last)",
      "\u001b[1;32m<ipython-input-1-1a83730a5d5e>\u001b[0m in \u001b[0;36m<module>\u001b[1;34m\u001b[0m\n\u001b[0;32m     41\u001b[0m \u001b[1;33m\u001b[0m\u001b[0m\n\u001b[0;32m     42\u001b[0m \u001b[1;32mif\u001b[0m \u001b[0m__name__\u001b[0m \u001b[1;33m==\u001b[0m \u001b[1;34m'__main__'\u001b[0m\u001b[1;33m:\u001b[0m\u001b[1;33m\u001b[0m\u001b[1;33m\u001b[0m\u001b[0m\n\u001b[1;32m---> 43\u001b[1;33m     \u001b[0mmain\u001b[0m\u001b[1;33m(\u001b[0m\u001b[1;33m)\u001b[0m\u001b[1;33m\u001b[0m\u001b[1;33m\u001b[0m\u001b[0m\n\u001b[0m",
      "\u001b[1;32m<ipython-input-1-1a83730a5d5e>\u001b[0m in \u001b[0;36mmain\u001b[1;34m()\u001b[0m\n\u001b[0;32m     35\u001b[0m \u001b[1;33m\u001b[0m\u001b[0m\n\u001b[0;32m     36\u001b[0m \u001b[1;32mdef\u001b[0m \u001b[0mmain\u001b[0m\u001b[1;33m(\u001b[0m\u001b[1;33m)\u001b[0m\u001b[1;33m:\u001b[0m\u001b[1;33m\u001b[0m\u001b[1;33m\u001b[0m\u001b[0m\n\u001b[1;32m---> 37\u001b[1;33m     \u001b[0mget_global_data\u001b[0m\u001b[1;33m(\u001b[0m\u001b[1;33m)\u001b[0m\u001b[1;33m\u001b[0m\u001b[1;33m\u001b[0m\u001b[0m\n\u001b[0m\u001b[0;32m     38\u001b[0m     \u001b[0mprint\u001b[0m\u001b[1;33m(\u001b[0m\u001b[1;33m)\u001b[0m\u001b[1;33m\u001b[0m\u001b[1;33m\u001b[0m\u001b[0m\n\u001b[0;32m     39\u001b[0m     \u001b[0mget_country_data\u001b[0m\u001b[1;33m(\u001b[0m\u001b[1;34m'Korea'\u001b[0m\u001b[1;33m)\u001b[0m\u001b[1;33m\u001b[0m\u001b[1;33m\u001b[0m\u001b[0m\n",
      "\u001b[1;32m<ipython-input-1-1a83730a5d5e>\u001b[0m in \u001b[0;36mget_global_data\u001b[1;34m()\u001b[0m\n\u001b[0;32m     27\u001b[0m     \u001b[0mcountry_corona_info\u001b[0m \u001b[1;33m=\u001b[0m \u001b[0mjson\u001b[0m\u001b[1;33m.\u001b[0m\u001b[0mloads\u001b[0m\u001b[1;33m(\u001b[0m\u001b[0mres\u001b[0m\u001b[1;33m)\u001b[0m\u001b[1;33m\u001b[0m\u001b[1;33m\u001b[0m\u001b[0m\n\u001b[0;32m     28\u001b[0m     \u001b[0mprint\u001b[0m\u001b[1;33m(\u001b[0m\u001b[1;34m\"[ Global Corona Data ]\"\u001b[0m\u001b[1;33m)\u001b[0m\u001b[1;33m\u001b[0m\u001b[1;33m\u001b[0m\u001b[0m\n\u001b[1;32m---> 29\u001b[1;33m     \u001b[0mprint\u001b[0m\u001b[1;33m(\u001b[0m\u001b[1;34m\"확진자: %s\"\u001b[0m \u001b[1;33m%\u001b[0m \u001b[0mformat_number\u001b[0m\u001b[1;33m(\u001b[0m\u001b[0mcountry_corona_info\u001b[0m\u001b[1;33m[\u001b[0m\u001b[1;34m\"cases\"\u001b[0m\u001b[1;33m]\u001b[0m\u001b[1;33m)\u001b[0m\u001b[1;33m)\u001b[0m\u001b[1;33m\u001b[0m\u001b[1;33m\u001b[0m\u001b[0m\n\u001b[0m\u001b[0;32m     30\u001b[0m     \u001b[0mprint\u001b[0m\u001b[1;33m(\u001b[0m\u001b[1;34m\"사망자: %s\"\u001b[0m \u001b[1;33m%\u001b[0m \u001b[0mformat_number\u001b[0m\u001b[1;33m(\u001b[0m\u001b[0mcountry_corona_info\u001b[0m\u001b[1;33m[\u001b[0m\u001b[1;34m\"deaths\"\u001b[0m\u001b[1;33m]\u001b[0m\u001b[1;33m)\u001b[0m\u001b[1;33m)\u001b[0m\u001b[1;33m\u001b[0m\u001b[1;33m\u001b[0m\u001b[0m\n\u001b[0;32m     31\u001b[0m     \u001b[0mprint\u001b[0m\u001b[1;33m(\u001b[0m\u001b[1;34m\"격리해제: %s\"\u001b[0m \u001b[1;33m%\u001b[0m \u001b[0mformat_number\u001b[0m\u001b[1;33m(\u001b[0m\u001b[0mcountry_corona_info\u001b[0m\u001b[1;33m[\u001b[0m\u001b[1;34m\"recovered\"\u001b[0m\u001b[1;33m]\u001b[0m\u001b[1;33m)\u001b[0m\u001b[1;33m)\u001b[0m\u001b[1;33m\u001b[0m\u001b[1;33m\u001b[0m\u001b[0m\n",
      "\u001b[1;31mKeyError\u001b[0m: 'cases'"
     ]
    }
   ],
   "source": [
    "import json\n",
    "from datetime import datetime\n",
    "import requests\n",
    "\n",
    "\n",
    "def format_number(number):\n",
    "    return '{:,d}'.format(number)\n",
    "\n",
    "\n",
    "def get_country_data(country):\n",
    "    country_data_url = \"https://corona.lmao.ninja/countries/\" + country\n",
    "    res = requests.get(country_data_url).text\n",
    "    country_corona_info = json.loads(res)\n",
    "    print(\"[ %s Corona Data ]\" % country)\n",
    "    print(\"추가 확진자: +%s\" % format_number(country_corona_info[\"todayCases\"]))\n",
    "    print(\"추가 사망자: +%s\" % format_number(country_corona_info[\"todayDeaths\"]))\n",
    "    print(\"확진자: %s\" % format_number(country_corona_info[\"cases\"]))\n",
    "    print(\"사망자: %s\" % format_number(country_corona_info[\"deaths\"]))\n",
    "    print(\"격리해제: %s\" % format_number(country_corona_info[\"recovered\"]))\n",
    "    print(\"격리중: %s\" % format_number(country_corona_info[\"active\"]))\n",
    "    return country_corona_info\n",
    "\n",
    "\n",
    "def get_global_data():\n",
    "    global_data_url = \"https://corona.lmao.ninja/all\"\n",
    "    res = requests.get(global_data_url).text\n",
    "    country_corona_info = json.loads(res)\n",
    "    print(\"[ Global Corona Data ]\")\n",
    "    print(\"확진자: %s\" % format_number(country_corona_info[\"cases\"]))\n",
    "    print(\"사망자: %s\" % format_number(country_corona_info[\"deaths\"]))\n",
    "    print(\"격리해제: %s\" % format_number(country_corona_info[\"recovered\"]))\n",
    "    print(\"(%s 기준)\" % datetime.fromtimestamp(country_corona_info[\"updated\"]/1000.0))\n",
    "    return country_corona_info\n",
    "\n",
    "\n",
    "def main():\n",
    "    get_global_data()\n",
    "    print()\n",
    "    get_country_data('Korea')\n",
    "\n",
    "\n",
    "if __name__ == '__main__':\n",
    "    main()"
   ]
  }
 ],
 "metadata": {
  "kernelspec": {
   "display_name": "Python 3",
   "language": "python",
   "name": "python3"
  },
  "language_info": {
   "codemirror_mode": {
    "name": "ipython",
    "version": 3
   },
   "file_extension": ".py",
   "mimetype": "text/x-python",
   "name": "python",
   "nbconvert_exporter": "python",
   "pygments_lexer": "ipython3",
   "version": "3.8.8"
  }
 },
 "nbformat": 4,
 "nbformat_minor": 5
}
