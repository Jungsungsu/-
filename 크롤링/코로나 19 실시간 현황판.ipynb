{
 "cells": [
  {
   "cell_type": "code",
   "execution_count": null,
   "id": "5b9a1502",
   "metadata": {},
   "outputs": [],
   "source": [
    "# 라이브러리를 활용하기 위해서 임포트\n",
    "import requests as req\n",
    "from bs4 import BeautifulSoup as bs"
   ]
  },
  {
   "cell_type": "code",
   "execution_count": null,
   "id": "211256df",
   "metadata": {},
   "outputs": [],
   "source": [
    "# req.get() => 원하는 페이지의 정보를 요청하는 메소드\n",
    "# get(\"원하는 페이지의 URL\")\n",
    "# response [200] >> 데이터 통신에 성공했습니다!\n",
    "res = req.get(\"https://search.naver.com/search.naver?where=nexearch&sm=top_hty&fbm=1&ie=utf8&query=%EC%BD%94%EB%A1%9C%EB%82%98+19\")"
   ]
  },
  {
   "cell_type": "code",
   "execution_count": null,
   "id": "a400dadd",
   "metadata": {},
   "outputs": [],
   "source": [
    "# 멜론사이트를 요청    400번대 에러는 요청 500번대는 서버나 DB 에러\n",
    "# [406] >> 통신에 실패했습니다(문제점은 요청에서 문제가 있다.)\n",
    "# 컴퓨터로 접속했다는 인지 (서버쪽에서)\n",
    "req.get(\"https://www.melon.com\")"
   ]
  },
  {
   "cell_type": "code",
   "execution_count": null,
   "id": "72efc878",
   "metadata": {},
   "outputs": [],
   "source": [
    "# 3. 상품명, 가격, 카테고리(마지막) 수집 = 따로따로 총 3개 데이터를 수집\n",
    "#itemcase_basic > div.box__item-title > h1\n",
    "corona = driver.find_element_by_css_selector(\"li.info_num > p\").text\n",
    "death = driver.find_element_by_css_selector(\"li.info_04 > p\").text"
   ]
  },
  {
   "cell_type": "code",
   "execution_count": null,
   "id": "6f38f68e",
   "metadata": {},
   "outputs": [],
   "source": [
    "print(corona[0].text)\n",
    "print(death[0].text)"
   ]
  },
  {
   "cell_type": "code",
   "execution_count": null,
   "id": "41e3bfb3",
   "metadata": {},
   "outputs": [],
   "source": [
    "soup = bs(res.text, \"lxml\")"
   ]
  },
  {
   "cell_type": "code",
   "execution_count": null,
   "id": "2f4a4993",
   "metadata": {},
   "outputs": [],
   "source": [
    "corona = soup.select(\"li.info_num > p \")\n",
    "death = soup.select(\"\")"
   ]
  },
  {
   "cell_type": "code",
   "execution_count": null,
   "id": "a6372875",
   "metadata": {},
   "outputs": [],
   "source": []
  },
  {
   "cell_type": "code",
   "execution_count": null,
   "id": "aa0a760c",
   "metadata": {},
   "outputs": [],
   "source": []
  },
  {
   "cell_type": "code",
   "execution_count": null,
   "id": "12868aa1",
   "metadata": {},
   "outputs": [],
   "source": []
  },
  {
   "cell_type": "code",
   "execution_count": null,
   "id": "36257f51",
   "metadata": {},
   "outputs": [],
   "source": []
  },
  {
   "cell_type": "code",
   "execution_count": null,
   "id": "e3809b0a",
   "metadata": {},
   "outputs": [],
   "source": [
    "\n"
   ]
  }
 ],
 "metadata": {
  "kernelspec": {
   "display_name": "Python 3",
   "language": "python",
   "name": "python3"
  },
  "language_info": {
   "codemirror_mode": {
    "name": "ipython",
    "version": 3
   },
   "file_extension": ".py",
   "mimetype": "text/x-python",
   "name": "python",
   "nbconvert_exporter": "python",
   "pygments_lexer": "ipython3",
   "version": "3.8.8"
  }
 },
 "nbformat": 4,
 "nbformat_minor": 5
}
