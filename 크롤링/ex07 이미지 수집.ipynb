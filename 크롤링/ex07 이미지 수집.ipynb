{
 "cells": [
  {
   "cell_type": "code",
   "execution_count": null,
   "id": "1048f2c9",
   "metadata": {},
   "outputs": [],
   "source": [
    "from selenium import webdriver as wb\n",
    "from selenium.webdriver.common.keys import Keys\n",
    "import time\n",
    "from bs4 import BeautifulSoup as bs\n",
    "# 파일시스템을 위한 라이브러리(파일, 폴더를 생성하거나 삭제)\n",
    "import os\n",
    "# 이미지의 경로값을 실제 파일로 변환해주는 라이브러리\n",
    "from urllib.request import urlretrieve"
   ]
  },
  {
   "cell_type": "code",
   "execution_count": 2,
   "id": "7e9b6c1b",
   "metadata": {},
   "outputs": [],
   "source": [
    "# 폴더 생성\n",
    "# 만약에 바탕화면에 이미지라는 폴더가 없다면, 바탕화면에 이미지라는 폴더를 생성해줘~\n",
    "if not os.path.isdir(\"C:/Users/smhrd/Desktop/이미지\"):\n",
    "    print(\"폴더생성\")\n",
    "    os.mkdir(\"C:/Users/smhrd/Desktop/이미지\")"
   ]
  },
  {
   "cell_type": "code",
   "execution_count": 3,
   "id": "77741ef0",
   "metadata": {},
   "outputs": [],
   "source": [
    "# 이미지 수집\n",
    "# img태그를 수집 속성중에 src값을 수집\n",
    "driver = wb.Chrome()\n",
    "driver.get(\"https://search.naver.com/search.naver?sm=tab_hty.top&where=image&query=%EB%84%B7%ED%94%8C%EB%A6%AD%EC%8A%A4+%EC%A7%80%EC%98%A5+%EA%B4%B4%EB%AC%BC&oquery=%EB%84%B7%ED%94%8C%EB%A6%AD%EC%8A%A4+%EC%A7%80%EC%98%A5+%EA%B4%B4%EB%AC%BC+%EC%A0%95%EC%B2%B4&tqi=hi2ORsp0Yidssj40s%2BhssssssPR-012052\")"
   ]
  },
  {
   "cell_type": "code",
   "execution_count": 4,
   "id": "13cb096e",
   "metadata": {},
   "outputs": [
    {
     "name": "stderr",
     "output_type": "stream",
     "text": [
      "<ipython-input-4-605297fe774f>:4: DeprecationWarning: find_element_by_* commands are deprecated. Please use find_element() instead\n",
      "  body = driver.find_element_by_tag_name(\"body\")\n"
     ]
    }
   ],
   "source": [
    "# 화면 스크롤 코드 추가!\n",
    "# 브라우저가 이미지를 충분히 로딩을 시키기 위해서\n",
    "# 키보드에서 END 보내주기\n",
    "body = driver.find_element_by_tag_name(\"body\")\n",
    "for i in range(5) :\n",
    "    body.send_keys(Keys.END)  \n",
    "    time.sleep(1)"
   ]
  },
  {
   "cell_type": "code",
   "execution_count": 5,
   "id": "f352163e",
   "metadata": {},
   "outputs": [],
   "source": [
    "# selenium과 bs 같이 사용할떄 모든 정보를 알고있는 driver에게 페이지 정보를 요청\n",
    "# driver.page_source\n",
    "soup = bs(driver.page_source,\"lxml\")"
   ]
  },
  {
   "cell_type": "code",
   "execution_count": null,
   "id": "6c3e30af",
   "metadata": {},
   "outputs": [],
   "source": [
    "img = soup.select(\"img._image._listImage\")"
   ]
  },
  {
   "cell_type": "code",
   "execution_count": null,
   "id": "f6e8e93b",
   "metadata": {},
   "outputs": [],
   "source": [
    "# 태그안에 존재하는 속성을 꺼낼때는 [\"속성\"] ★\n",
    "img[0][\"src\"]"
   ]
  },
  {
   "cell_type": "code",
   "execution_count": null,
   "id": "ab1fc601",
   "metadata": {},
   "outputs": [],
   "source": [
    "# src값들만 저장시켜주는 리스트\n",
    "img_src = []\n",
    "\n",
    "for i in img :\n",
    "    img_src.append(i[\"src\"])"
   ]
  },
  {
   "cell_type": "code",
   "execution_count": null,
   "id": "6eb3151c",
   "metadata": {},
   "outputs": [],
   "source": [
    "img_src"
   ]
  },
  {
   "cell_type": "code",
   "execution_count": null,
   "id": "3cee53fb",
   "metadata": {},
   "outputs": [],
   "source": [
    "for i in range(len(img_src)) :\n",
    "    urlretrieve(img_src[i], \"C:/Users/smhrd/Desktop/이미지/\"+str(i)+\".jpg\")\n",
    "    time.sleep(10)"
   ]
  },
  {
   "cell_type": "code",
   "execution_count": null,
   "id": "f61a111d",
   "metadata": {},
   "outputs": [],
   "source": []
  },
  {
   "cell_type": "code",
   "execution_count": null,
   "id": "63bd25b9",
   "metadata": {},
   "outputs": [],
   "source": []
  },
  {
   "cell_type": "code",
   "execution_count": null,
   "id": "048221bd",
   "metadata": {},
   "outputs": [],
   "source": []
  },
  {
   "cell_type": "code",
   "execution_count": null,
   "id": "76ba3c3f",
   "metadata": {},
   "outputs": [],
   "source": []
  },
  {
   "cell_type": "code",
   "execution_count": null,
   "id": "3678e399",
   "metadata": {},
   "outputs": [],
   "source": []
  },
  {
   "cell_type": "code",
   "execution_count": null,
   "id": "79ad9a7e",
   "metadata": {},
   "outputs": [],
   "source": []
  },
  {
   "cell_type": "code",
   "execution_count": null,
   "id": "577761e3",
   "metadata": {},
   "outputs": [],
   "source": []
  },
  {
   "cell_type": "code",
   "execution_count": null,
   "id": "0628ec56",
   "metadata": {},
   "outputs": [],
   "source": []
  },
  {
   "cell_type": "code",
   "execution_count": null,
   "id": "dc7d4005",
   "metadata": {},
   "outputs": [],
   "source": []
  },
  {
   "cell_type": "code",
   "execution_count": null,
   "id": "f0c9f373",
   "metadata": {},
   "outputs": [],
   "source": []
  },
  {
   "cell_type": "code",
   "execution_count": null,
   "id": "367dcfba",
   "metadata": {},
   "outputs": [],
   "source": []
  },
  {
   "cell_type": "code",
   "execution_count": null,
   "id": "fae78ac9",
   "metadata": {},
   "outputs": [],
   "source": []
  },
  {
   "cell_type": "code",
   "execution_count": null,
   "id": "bd793746",
   "metadata": {},
   "outputs": [],
   "source": []
  },
  {
   "cell_type": "code",
   "execution_count": null,
   "id": "3fea7d79",
   "metadata": {},
   "outputs": [],
   "source": []
  },
  {
   "cell_type": "code",
   "execution_count": null,
   "id": "e8e0cfca",
   "metadata": {},
   "outputs": [],
   "source": []
  },
  {
   "cell_type": "code",
   "execution_count": null,
   "id": "9d6734cf",
   "metadata": {},
   "outputs": [],
   "source": []
  },
  {
   "cell_type": "code",
   "execution_count": null,
   "id": "5cd57744",
   "metadata": {},
   "outputs": [],
   "source": []
  },
  {
   "cell_type": "code",
   "execution_count": null,
   "id": "a715eac1",
   "metadata": {},
   "outputs": [],
   "source": []
  },
  {
   "cell_type": "code",
   "execution_count": null,
   "id": "97f67c56",
   "metadata": {},
   "outputs": [],
   "source": []
  }
 ],
 "metadata": {
  "kernelspec": {
   "display_name": "Python 3",
   "language": "python",
   "name": "python3"
  },
  "language_info": {
   "codemirror_mode": {
    "name": "ipython",
    "version": 3
   },
   "file_extension": ".py",
   "mimetype": "text/x-python",
   "name": "python",
   "nbconvert_exporter": "python",
   "pygments_lexer": "ipython3",
   "version": "3.8.8"
  }
 },
 "nbformat": 4,
 "nbformat_minor": 5
}
