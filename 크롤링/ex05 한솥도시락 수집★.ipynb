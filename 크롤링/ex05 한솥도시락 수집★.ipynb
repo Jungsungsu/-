{
 "cells": [
  {
   "cell_type": "code",
   "execution_count": 1,
   "id": "aeb478b3",
   "metadata": {},
   "outputs": [],
   "source": [
    "from selenium import webdriver as wb\n",
    "from selenium.webdriver.common.keys import Keys\n",
    "import pandas as pd\n",
    "# time라이브러리는 중간중간에 쉬는시간을 부여하는 라이브러리\n",
    "import time"
   ]
  },
  {
   "cell_type": "code",
   "execution_count": 2,
   "id": "f99bf290",
   "metadata": {},
   "outputs": [],
   "source": [
    "driver = wb.Chrome()\n",
    "driver.get(\"https://www.hsd.co.kr/menu/menu_list\")"
   ]
  },
  {
   "cell_type": "code",
   "execution_count": 3,
   "id": "c997f93f",
   "metadata": {},
   "outputs": [
    {
     "name": "stderr",
     "output_type": "stream",
     "text": [
      "<ipython-input-3-3f985c939a9c>:1: DeprecationWarning: find_element_by_* commands are deprecated. Please use find_element() instead\n",
      "  title = driver.find_element_by_css_selector(\"h4.h.fz_03\")\n"
     ]
    }
   ],
   "source": [
    "title = driver.find_element_by_css_selector(\"h4.h.fz_03\")"
   ]
  },
  {
   "cell_type": "code",
   "execution_count": 4,
   "id": "eb308c9e",
   "metadata": {},
   "outputs": [
    {
     "name": "stderr",
     "output_type": "stream",
     "text": [
      "<ipython-input-4-b7c12befde14>:1: DeprecationWarning: find_elements_by_* commands are deprecated. Please use find_elements() instead\n",
      "  title2 = driver.find_elements_by_css_selector(\"h4.h.fz_03\")\n"
     ]
    }
   ],
   "source": [
    "title2 = driver.find_elements_by_css_selector(\"h4.h.fz_03\")"
   ]
  },
  {
   "cell_type": "code",
   "execution_count": 5,
   "id": "7a6011a7",
   "metadata": {},
   "outputs": [],
   "source": [
    "# 필기문제에 나옴!!\n",
    "# find_element = 단수개의 데이터를 가지고 오는거!(1개 반환)\n",
    "# find_elements =  복수개의 데이터를 가지고 오는거(리스트 반환)"
   ]
  },
  {
   "cell_type": "code",
   "execution_count": 6,
   "id": "0147f4e3",
   "metadata": {
    "scrolled": true
   },
   "outputs": [
    {
     "name": "stderr",
     "output_type": "stream",
     "text": [
      "<ipython-input-6-b465b4bfa90e>:2: DeprecationWarning: find_elements_by_* commands are deprecated. Please use find_elements() instead\n",
      "  price = driver.find_elements_by_css_selector(\"div.item-price\")\n"
     ]
    }
   ],
   "source": [
    "# 모든 메뉴의 가격 정보 수집\n",
    "price = driver.find_elements_by_css_selector(\"div.item-price\")"
   ]
  },
  {
   "cell_type": "code",
   "execution_count": 7,
   "id": "1ac7648a",
   "metadata": {},
   "outputs": [
    {
     "data": {
      "text/plain": [
       "'5,800원'"
      ]
     },
     "execution_count": 7,
     "metadata": {},
     "output_type": "execute_result"
    }
   ],
   "source": [
    "price[0].text"
   ]
  },
  {
   "cell_type": "code",
   "execution_count": 8,
   "id": "49450200",
   "metadata": {},
   "outputs": [
    {
     "data": {
      "text/plain": [
       "66"
      ]
     },
     "execution_count": 8,
     "metadata": {},
     "output_type": "execute_result"
    }
   ],
   "source": [
    "len(title2)"
   ]
  },
  {
   "cell_type": "markdown",
   "id": "448299c4",
   "metadata": {},
   "source": [
    "# 더보기 버튼을 통해서 전체 메뉴명을 로딩"
   ]
  },
  {
   "cell_type": "code",
   "execution_count": 9,
   "id": "8ec7f7c5",
   "metadata": {
    "scrolled": true
   },
   "outputs": [
    {
     "name": "stderr",
     "output_type": "stream",
     "text": [
      "<ipython-input-9-3eef50f924ca>:1: DeprecationWarning: find_element_by_* commands are deprecated. Please use find_element() instead\n",
      "  btn_more = driver.find_element_by_css_selector(\"a.c_05\")\n"
     ]
    }
   ],
   "source": [
    "btn_more = driver.find_element_by_css_selector(\"a.c_05\")"
   ]
  },
  {
   "cell_type": "markdown",
   "id": "3c2b4a36",
   "metadata": {},
   "source": [
    "# 예외처리\n",
    "- 반복을 실행하다가 에러가 났을때 멈추지말고 다른 로직을 실행시켜줘\n",
    "- try except"
   ]
  },
  {
   "cell_type": "code",
   "execution_count": 10,
   "id": "8330421a",
   "metadata": {},
   "outputs": [
    {
     "ename": "ElementNotInteractableException",
     "evalue": "Message: element not interactable\n  (Session info: chrome=96.0.4664.45)\nStacktrace:\nBacktrace:\n\tOrdinal0 [0x00426903+2517251]\n\tOrdinal0 [0x003BF8E1+2095329]\n\tOrdinal0 [0x002C2710+1058576]\n\tOrdinal0 [0x002EE324+1237796]\n\tOrdinal0 [0x002E4037+1196087]\n\tOrdinal0 [0x003064D3+1336531]\n\tOrdinal0 [0x002E3A36+1194550]\n\tOrdinal0 [0x003065BA+1336762]\n\tOrdinal0 [0x00315BBF+1399743]\n\tOrdinal0 [0x0030639B+1336219]\n\tOrdinal0 [0x002E27A7+1189799]\n\tOrdinal0 [0x002E3609+1193481]\n\tGetHandleVerifier [0x005B5904+1577972]\n\tGetHandleVerifier [0x00660B97+2279047]\n\tGetHandleVerifier [0x004B6D09+534521]\n\tGetHandleVerifier [0x004B5DB9+530601]\n\tOrdinal0 [0x003C4FF9+2117625]\n\tOrdinal0 [0x003C98A8+2136232]\n\tOrdinal0 [0x003C99E2+2136546]\n\tOrdinal0 [0x003D3541+2176321]\n\tBaseThreadInitThunk [0x776FFA29+25]\n\tRtlGetAppContainerNamedObjectPath [0x77AC7A9E+286]\n\tRtlGetAppContainerNamedObjectPath [0x77AC7A6E+238]\n",
     "output_type": "error",
     "traceback": [
      "\u001b[1;31m---------------------------------------------------------------------------\u001b[0m",
      "\u001b[1;31mElementNotInteractableException\u001b[0m           Traceback (most recent call last)",
      "\u001b[1;32m<ipython-input-10-879a73f24b74>\u001b[0m in \u001b[0;36m<module>\u001b[1;34m\u001b[0m\n\u001b[0;32m      1\u001b[0m \u001b[1;32mfor\u001b[0m \u001b[0mi\u001b[0m \u001b[1;32min\u001b[0m \u001b[0mrange\u001b[0m\u001b[1;33m(\u001b[0m\u001b[1;36m10\u001b[0m\u001b[1;33m)\u001b[0m \u001b[1;33m:\u001b[0m\u001b[1;33m\u001b[0m\u001b[1;33m\u001b[0m\u001b[0m\n\u001b[1;32m----> 2\u001b[1;33m     \u001b[0mbtn_more\u001b[0m\u001b[1;33m.\u001b[0m\u001b[0mclick\u001b[0m\u001b[1;33m(\u001b[0m\u001b[1;33m)\u001b[0m\u001b[1;33m\u001b[0m\u001b[1;33m\u001b[0m\u001b[0m\n\u001b[0m\u001b[0;32m      3\u001b[0m     \u001b[0mtime\u001b[0m\u001b[1;33m.\u001b[0m\u001b[0msleep\u001b[0m\u001b[1;33m(\u001b[0m\u001b[1;36m1\u001b[0m\u001b[1;33m)\u001b[0m\u001b[1;33m\u001b[0m\u001b[1;33m\u001b[0m\u001b[0m\n",
      "\u001b[1;32m~\\anaconda3\\lib\\site-packages\\selenium\\webdriver\\remote\\webelement.py\u001b[0m in \u001b[0;36mclick\u001b[1;34m(self)\u001b[0m\n\u001b[0;32m     78\u001b[0m     \u001b[1;32mdef\u001b[0m \u001b[0mclick\u001b[0m\u001b[1;33m(\u001b[0m\u001b[0mself\u001b[0m\u001b[1;33m)\u001b[0m \u001b[1;33m->\u001b[0m \u001b[1;32mNone\u001b[0m\u001b[1;33m:\u001b[0m\u001b[1;33m\u001b[0m\u001b[1;33m\u001b[0m\u001b[0m\n\u001b[0;32m     79\u001b[0m         \u001b[1;34m\"\"\"Clicks the element.\"\"\"\u001b[0m\u001b[1;33m\u001b[0m\u001b[1;33m\u001b[0m\u001b[0m\n\u001b[1;32m---> 80\u001b[1;33m         \u001b[0mself\u001b[0m\u001b[1;33m.\u001b[0m\u001b[0m_execute\u001b[0m\u001b[1;33m(\u001b[0m\u001b[0mCommand\u001b[0m\u001b[1;33m.\u001b[0m\u001b[0mCLICK_ELEMENT\u001b[0m\u001b[1;33m)\u001b[0m\u001b[1;33m\u001b[0m\u001b[1;33m\u001b[0m\u001b[0m\n\u001b[0m\u001b[0;32m     81\u001b[0m \u001b[1;33m\u001b[0m\u001b[0m\n\u001b[0;32m     82\u001b[0m     \u001b[1;32mdef\u001b[0m \u001b[0msubmit\u001b[0m\u001b[1;33m(\u001b[0m\u001b[0mself\u001b[0m\u001b[1;33m)\u001b[0m\u001b[1;33m:\u001b[0m\u001b[1;33m\u001b[0m\u001b[1;33m\u001b[0m\u001b[0m\n",
      "\u001b[1;32m~\\anaconda3\\lib\\site-packages\\selenium\\webdriver\\remote\\webelement.py\u001b[0m in \u001b[0;36m_execute\u001b[1;34m(self, command, params)\u001b[0m\n\u001b[0;32m    691\u001b[0m             \u001b[0mparams\u001b[0m \u001b[1;33m=\u001b[0m \u001b[1;33m{\u001b[0m\u001b[1;33m}\u001b[0m\u001b[1;33m\u001b[0m\u001b[1;33m\u001b[0m\u001b[0m\n\u001b[0;32m    692\u001b[0m         \u001b[0mparams\u001b[0m\u001b[1;33m[\u001b[0m\u001b[1;34m'id'\u001b[0m\u001b[1;33m]\u001b[0m \u001b[1;33m=\u001b[0m \u001b[0mself\u001b[0m\u001b[1;33m.\u001b[0m\u001b[0m_id\u001b[0m\u001b[1;33m\u001b[0m\u001b[1;33m\u001b[0m\u001b[0m\n\u001b[1;32m--> 693\u001b[1;33m         \u001b[1;32mreturn\u001b[0m \u001b[0mself\u001b[0m\u001b[1;33m.\u001b[0m\u001b[0m_parent\u001b[0m\u001b[1;33m.\u001b[0m\u001b[0mexecute\u001b[0m\u001b[1;33m(\u001b[0m\u001b[0mcommand\u001b[0m\u001b[1;33m,\u001b[0m \u001b[0mparams\u001b[0m\u001b[1;33m)\u001b[0m\u001b[1;33m\u001b[0m\u001b[1;33m\u001b[0m\u001b[0m\n\u001b[0m\u001b[0;32m    694\u001b[0m \u001b[1;33m\u001b[0m\u001b[0m\n\u001b[0;32m    695\u001b[0m     \u001b[1;32mdef\u001b[0m \u001b[0mfind_element\u001b[0m\u001b[1;33m(\u001b[0m\u001b[0mself\u001b[0m\u001b[1;33m,\u001b[0m \u001b[0mby\u001b[0m\u001b[1;33m=\u001b[0m\u001b[0mBy\u001b[0m\u001b[1;33m.\u001b[0m\u001b[0mID\u001b[0m\u001b[1;33m,\u001b[0m \u001b[0mvalue\u001b[0m\u001b[1;33m=\u001b[0m\u001b[1;32mNone\u001b[0m\u001b[1;33m)\u001b[0m\u001b[1;33m:\u001b[0m\u001b[1;33m\u001b[0m\u001b[1;33m\u001b[0m\u001b[0m\n",
      "\u001b[1;32m~\\anaconda3\\lib\\site-packages\\selenium\\webdriver\\remote\\webdriver.py\u001b[0m in \u001b[0;36mexecute\u001b[1;34m(self, driver_command, params)\u001b[0m\n\u001b[0;32m    416\u001b[0m         \u001b[0mresponse\u001b[0m \u001b[1;33m=\u001b[0m \u001b[0mself\u001b[0m\u001b[1;33m.\u001b[0m\u001b[0mcommand_executor\u001b[0m\u001b[1;33m.\u001b[0m\u001b[0mexecute\u001b[0m\u001b[1;33m(\u001b[0m\u001b[0mdriver_command\u001b[0m\u001b[1;33m,\u001b[0m \u001b[0mparams\u001b[0m\u001b[1;33m)\u001b[0m\u001b[1;33m\u001b[0m\u001b[1;33m\u001b[0m\u001b[0m\n\u001b[0;32m    417\u001b[0m         \u001b[1;32mif\u001b[0m \u001b[0mresponse\u001b[0m\u001b[1;33m:\u001b[0m\u001b[1;33m\u001b[0m\u001b[1;33m\u001b[0m\u001b[0m\n\u001b[1;32m--> 418\u001b[1;33m             \u001b[0mself\u001b[0m\u001b[1;33m.\u001b[0m\u001b[0merror_handler\u001b[0m\u001b[1;33m.\u001b[0m\u001b[0mcheck_response\u001b[0m\u001b[1;33m(\u001b[0m\u001b[0mresponse\u001b[0m\u001b[1;33m)\u001b[0m\u001b[1;33m\u001b[0m\u001b[1;33m\u001b[0m\u001b[0m\n\u001b[0m\u001b[0;32m    419\u001b[0m             response['value'] = self._unwrap_value(\n\u001b[0;32m    420\u001b[0m                 response.get('value', None))\n",
      "\u001b[1;32m~\\anaconda3\\lib\\site-packages\\selenium\\webdriver\\remote\\errorhandler.py\u001b[0m in \u001b[0;36mcheck_response\u001b[1;34m(self, response)\u001b[0m\n\u001b[0;32m    241\u001b[0m                 \u001b[0malert_text\u001b[0m \u001b[1;33m=\u001b[0m \u001b[0mvalue\u001b[0m\u001b[1;33m[\u001b[0m\u001b[1;34m'alert'\u001b[0m\u001b[1;33m]\u001b[0m\u001b[1;33m.\u001b[0m\u001b[0mget\u001b[0m\u001b[1;33m(\u001b[0m\u001b[1;34m'text'\u001b[0m\u001b[1;33m)\u001b[0m\u001b[1;33m\u001b[0m\u001b[1;33m\u001b[0m\u001b[0m\n\u001b[0;32m    242\u001b[0m             \u001b[1;32mraise\u001b[0m \u001b[0mexception_class\u001b[0m\u001b[1;33m(\u001b[0m\u001b[0mmessage\u001b[0m\u001b[1;33m,\u001b[0m \u001b[0mscreen\u001b[0m\u001b[1;33m,\u001b[0m \u001b[0mstacktrace\u001b[0m\u001b[1;33m,\u001b[0m \u001b[0malert_text\u001b[0m\u001b[1;33m)\u001b[0m  \u001b[1;31m# type: ignore[call-arg]  # mypy is not smart enough here\u001b[0m\u001b[1;33m\u001b[0m\u001b[1;33m\u001b[0m\u001b[0m\n\u001b[1;32m--> 243\u001b[1;33m         \u001b[1;32mraise\u001b[0m \u001b[0mexception_class\u001b[0m\u001b[1;33m(\u001b[0m\u001b[0mmessage\u001b[0m\u001b[1;33m,\u001b[0m \u001b[0mscreen\u001b[0m\u001b[1;33m,\u001b[0m \u001b[0mstacktrace\u001b[0m\u001b[1;33m)\u001b[0m\u001b[1;33m\u001b[0m\u001b[1;33m\u001b[0m\u001b[0m\n\u001b[0m\u001b[0;32m    244\u001b[0m \u001b[1;33m\u001b[0m\u001b[0m\n\u001b[0;32m    245\u001b[0m     \u001b[1;32mdef\u001b[0m \u001b[0m_value_or_default\u001b[0m\u001b[1;33m(\u001b[0m\u001b[0mself\u001b[0m\u001b[1;33m,\u001b[0m \u001b[0mobj\u001b[0m\u001b[1;33m:\u001b[0m \u001b[0mMapping\u001b[0m\u001b[1;33m[\u001b[0m\u001b[0m_KT\u001b[0m\u001b[1;33m,\u001b[0m \u001b[0m_VT\u001b[0m\u001b[1;33m]\u001b[0m\u001b[1;33m,\u001b[0m \u001b[0mkey\u001b[0m\u001b[1;33m:\u001b[0m \u001b[0m_KT\u001b[0m\u001b[1;33m,\u001b[0m \u001b[0mdefault\u001b[0m\u001b[1;33m:\u001b[0m \u001b[0m_VT\u001b[0m\u001b[1;33m)\u001b[0m \u001b[1;33m->\u001b[0m \u001b[0m_VT\u001b[0m\u001b[1;33m:\u001b[0m\u001b[1;33m\u001b[0m\u001b[1;33m\u001b[0m\u001b[0m\n",
      "\u001b[1;31mElementNotInteractableException\u001b[0m: Message: element not interactable\n  (Session info: chrome=96.0.4664.45)\nStacktrace:\nBacktrace:\n\tOrdinal0 [0x00426903+2517251]\n\tOrdinal0 [0x003BF8E1+2095329]\n\tOrdinal0 [0x002C2710+1058576]\n\tOrdinal0 [0x002EE324+1237796]\n\tOrdinal0 [0x002E4037+1196087]\n\tOrdinal0 [0x003064D3+1336531]\n\tOrdinal0 [0x002E3A36+1194550]\n\tOrdinal0 [0x003065BA+1336762]\n\tOrdinal0 [0x00315BBF+1399743]\n\tOrdinal0 [0x0030639B+1336219]\n\tOrdinal0 [0x002E27A7+1189799]\n\tOrdinal0 [0x002E3609+1193481]\n\tGetHandleVerifier [0x005B5904+1577972]\n\tGetHandleVerifier [0x00660B97+2279047]\n\tGetHandleVerifier [0x004B6D09+534521]\n\tGetHandleVerifier [0x004B5DB9+530601]\n\tOrdinal0 [0x003C4FF9+2117625]\n\tOrdinal0 [0x003C98A8+2136232]\n\tOrdinal0 [0x003C99E2+2136546]\n\tOrdinal0 [0x003D3541+2176321]\n\tBaseThreadInitThunk [0x776FFA29+25]\n\tRtlGetAppContainerNamedObjectPath [0x77AC7A9E+286]\n\tRtlGetAppContainerNamedObjectPath [0x77AC7A6E+238]\n"
     ]
    }
   ],
   "source": [
    "for i in range(10) :\n",
    "    btn_more.click()\n",
    "    time.sleep(1)"
   ]
  },
  {
   "cell_type": "code",
   "execution_count": null,
   "id": "368db4ab",
   "metadata": {},
   "outputs": [],
   "source": [
    "try :\n",
    "    # 에러가 나기 전까지 시도할 코드를 작성\n",
    "    for i in range(10) :\n",
    "        btn_more.click()\n",
    "        time.sleep(1)\n",
    "except :\n",
    "    # 에러가 난 경우 실행할 로직을 작성\n",
    "    print(\"더 이상 클릭할 수 없습니다.\")"
   ]
  },
  {
   "cell_type": "code",
   "execution_count": null,
   "id": "8faf6750",
   "metadata": {},
   "outputs": [],
   "source": [
    "# title2 = 메뉴명\n",
    "# price = 가격정보\n",
    "# 아직 텍스트만 담겨있지 않고 요소가 담겨있는 리스트\n",
    "# 요소 = 태그 + 컨텐츠"
   ]
  },
  {
   "cell_type": "code",
   "execution_count": 11,
   "id": "b95642f1",
   "metadata": {},
   "outputs": [],
   "source": [
    "# 팁!\n",
    "# 비어있는 리스트에 데이터를 저장할때는\n",
    "# 저장하는 코드와 리스트 생성코드를 같은 위치에 두기!\n",
    "# 순수한 텍스트 정보만 담긴 리스트 제작 중요!!\n",
    "\n",
    "title_list = []\n",
    "price_list = []\n",
    "\n",
    "for i in range(len(price)) :\n",
    "    title_list.append(title2[i].text.strip())\n",
    "    price_list.append(price[i].text.strip())"
   ]
  },
  {
   "cell_type": "code",
   "execution_count": 12,
   "id": "0fc01b29",
   "metadata": {},
   "outputs": [],
   "source": [
    "dic = {\"메뉴\" : title_list, \"가격\" : price_list}"
   ]
  },
  {
   "cell_type": "code",
   "execution_count": 13,
   "id": "24e647b2",
   "metadata": {},
   "outputs": [
    {
     "data": {
      "text/html": [
       "<div>\n",
       "<style scoped>\n",
       "    .dataframe tbody tr th:only-of-type {\n",
       "        vertical-align: middle;\n",
       "    }\n",
       "\n",
       "    .dataframe tbody tr th {\n",
       "        vertical-align: top;\n",
       "    }\n",
       "\n",
       "    .dataframe thead th {\n",
       "        text-align: right;\n",
       "    }\n",
       "</style>\n",
       "<table border=\"1\" class=\"dataframe\">\n",
       "  <thead>\n",
       "    <tr style=\"text-align: right;\">\n",
       "      <th></th>\n",
       "      <th>메뉴</th>\n",
       "      <th>가격</th>\n",
       "    </tr>\n",
       "  </thead>\n",
       "  <tbody>\n",
       "    <tr>\n",
       "      <th>0</th>\n",
       "      <td>김치 부대찌개</td>\n",
       "      <td>5,800원</td>\n",
       "    </tr>\n",
       "    <tr>\n",
       "      <th>1</th>\n",
       "      <td>제육 김치 부대찌개 정식</td>\n",
       "      <td>8,500원</td>\n",
       "    </tr>\n",
       "    <tr>\n",
       "      <th>2</th>\n",
       "      <td>돈치스팸 김치 부대찌개 정식</td>\n",
       "      <td>8,500원</td>\n",
       "    </tr>\n",
       "    <tr>\n",
       "      <th>3</th>\n",
       "      <td>빅치킨마요 김치 부대찌개 정식</td>\n",
       "      <td>7,400원</td>\n",
       "    </tr>\n",
       "    <tr>\n",
       "      <th>4</th>\n",
       "      <td>치킨마요 김치 부대찌개 정식</td>\n",
       "      <td>6,800원</td>\n",
       "    </tr>\n",
       "    <tr>\n",
       "      <th>...</th>\n",
       "      <td>...</td>\n",
       "      <td>...</td>\n",
       "    </tr>\n",
       "    <tr>\n",
       "      <th>61</th>\n",
       "      <td>소불고기 감초고추장 비빔밥</td>\n",
       "      <td>4,800원</td>\n",
       "    </tr>\n",
       "    <tr>\n",
       "      <th>62</th>\n",
       "      <td>시골제육 두부강된장 비빔밥</td>\n",
       "      <td>4,800원</td>\n",
       "    </tr>\n",
       "    <tr>\n",
       "      <th>63</th>\n",
       "      <td>참치야채 감초고추장</td>\n",
       "      <td>3,200원</td>\n",
       "    </tr>\n",
       "    <tr>\n",
       "      <th>64</th>\n",
       "      <td>열무 두부강된장 비빔밥</td>\n",
       "      <td>4,300원</td>\n",
       "    </tr>\n",
       "    <tr>\n",
       "      <th>65</th>\n",
       "      <td>튼튼도시락</td>\n",
       "      <td>5,000원</td>\n",
       "    </tr>\n",
       "  </tbody>\n",
       "</table>\n",
       "<p>66 rows × 2 columns</p>\n",
       "</div>"
      ],
      "text/plain": [
       "                  메뉴      가격\n",
       "0            김치 부대찌개  5,800원\n",
       "1      제육 김치 부대찌개 정식  8,500원\n",
       "2    돈치스팸 김치 부대찌개 정식  8,500원\n",
       "3   빅치킨마요 김치 부대찌개 정식  7,400원\n",
       "4    치킨마요 김치 부대찌개 정식  6,800원\n",
       "..               ...     ...\n",
       "61    소불고기 감초고추장 비빔밥  4,800원\n",
       "62    시골제육 두부강된장 비빔밥  4,800원\n",
       "63        참치야채 감초고추장  3,200원\n",
       "64      열무 두부강된장 비빔밥  4,300원\n",
       "65             튼튼도시락  5,000원\n",
       "\n",
       "[66 rows x 2 columns]"
      ]
     },
     "execution_count": 13,
     "metadata": {},
     "output_type": "execute_result"
    }
   ],
   "source": [
    "pd.DataFrame(dic)"
   ]
  },
  {
   "cell_type": "code",
   "execution_count": 14,
   "id": "7b488f4c",
   "metadata": {},
   "outputs": [
    {
     "name": "stderr",
     "output_type": "stream",
     "text": [
      "<ipython-input-14-d52e608586fe>:5: DeprecationWarning: find_element_by_* commands are deprecated. Please use find_element() instead\n",
      "  btn_more = driver.find_element_by_css_selector(\"a.c_05\")\n"
     ]
    },
    {
     "name": "stdout",
     "output_type": "stream",
     "text": [
      "더 이상 클릭할 수 없습니다.\n"
     ]
    },
    {
     "name": "stderr",
     "output_type": "stream",
     "text": [
      "<ipython-input-14-d52e608586fe>:14: DeprecationWarning: find_elements_by_* commands are deprecated. Please use find_elements() instead\n",
      "  title2 = driver.find_elements_by_css_selector(\"h4.h.fz_03\")\n",
      "<ipython-input-14-d52e608586fe>:15: DeprecationWarning: find_elements_by_* commands are deprecated. Please use find_elements() instead\n",
      "  price = driver.find_elements_by_css_selector(\"div.item-price\")\n"
     ]
    }
   ],
   "source": [
    "# ★\n",
    "driver = wb.Chrome()\n",
    "driver.get(\"https://www.hsd.co.kr/menu/menu_list\")\n",
    "time.sleep(1)\n",
    "btn_more = driver.find_element_by_css_selector(\"a.c_05\")\n",
    "try :\n",
    "    # 에러가 나기 전까지 시도할 코드를 작성\n",
    "    for i in range(10) :\n",
    "        btn_more.click()\n",
    "        time.sleep(1)\n",
    "except :\n",
    "    # 에러가 난 경우 실행할 로직을 작성\n",
    "    print(\"더 이상 클릭할 수 없습니다.\")\n",
    "title2 = driver.find_elements_by_css_selector(\"h4.h.fz_03\")\n",
    "price = driver.find_elements_by_css_selector(\"div.item-price\")\n",
    "title_list = []\n",
    "price_list = []\n",
    "\n",
    "for i in range(len(price)) :\n",
    "    title_list.append(title2[i].text.strip())\n",
    "    price_list.append(price[i].text.strip())\n",
    "dic = {\"메뉴\" : title_list, \"가격\" : price_list}\n",
    "food = pd.DataFrame(dic)\n",
    "food.to_csv(\"한솥.csv\", encoding=\"euc-kr\")\n",
    "driver.quit()"
   ]
  },
  {
   "cell_type": "markdown",
   "id": "353c1836",
   "metadata": {},
   "source": [
    "# 크롤링 주의점!\n",
    "- 1. 사람답게 코딩을 짜야한다\n",
    "- 컴퓨터(서버)에게 요청하는 부하를 줄여서 차단을 못하게 막아 주는거\n",
    "- time.sleep(몇초)\n",
    "- 화면이 변할때, 반복적으로 어떤 작업을 할때 sleep\n",
    "\n",
    "- 2. 코딩의 순서(흐름) 잘 기억하기\n",
    "- 크롬실행, 페이지이동해서, 로딩완료, 글자수집, 파일저장, 종료\n",
    "\n",
    "- 3. 반복문 부터 작성하는게 아니다!\n",
    "- 하나의 완벽한 로직을 작성 후, 반복문으로 감싸주기"
   ]
  },
  {
   "cell_type": "code",
   "execution_count": null,
   "id": "216abdd4",
   "metadata": {},
   "outputs": [],
   "source": []
  },
  {
   "cell_type": "code",
   "execution_count": null,
   "id": "1f80522a",
   "metadata": {},
   "outputs": [],
   "source": []
  },
  {
   "cell_type": "code",
   "execution_count": null,
   "id": "0a3e9c6b",
   "metadata": {},
   "outputs": [],
   "source": []
  },
  {
   "cell_type": "code",
   "execution_count": null,
   "id": "0cee32c8",
   "metadata": {},
   "outputs": [],
   "source": []
  },
  {
   "cell_type": "code",
   "execution_count": null,
   "id": "2ff97ec4",
   "metadata": {},
   "outputs": [],
   "source": []
  }
 ],
 "metadata": {
  "kernelspec": {
   "display_name": "Python 3",
   "language": "python",
   "name": "python3"
  },
  "language_info": {
   "codemirror_mode": {
    "name": "ipython",
    "version": 3
   },
   "file_extension": ".py",
   "mimetype": "text/x-python",
   "name": "python",
   "nbconvert_exporter": "python",
   "pygments_lexer": "ipython3",
   "version": "3.8.8"
  }
 },
 "nbformat": 4,
 "nbformat_minor": 5
}
