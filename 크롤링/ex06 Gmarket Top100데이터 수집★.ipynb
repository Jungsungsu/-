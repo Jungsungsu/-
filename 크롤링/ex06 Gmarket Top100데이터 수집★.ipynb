{
 "cells": [
  {
   "cell_type": "code",
   "execution_count": 1,
   "id": "5ed6275f",
   "metadata": {},
   "outputs": [],
   "source": [
    "from selenium import webdriver as wb\n",
    "import pandas as pd\n",
    "import time"
   ]
  },
  {
   "cell_type": "code",
   "execution_count": 2,
   "id": "4a0e55c2",
   "metadata": {},
   "outputs": [],
   "source": [
    "# 1. 크롬창을 실행\n",
    "driver = wb.Chrome()\n",
    "# 1-1. 지마켓 링크로 이동\n",
    "driver.get(\"http://corners.gmarket.co.kr/Bestsellers\")"
   ]
  },
  {
   "cell_type": "code",
   "execution_count": 3,
   "id": "53b4d56a",
   "metadata": {},
   "outputs": [
    {
     "name": "stderr",
     "output_type": "stream",
     "text": [
      "<ipython-input-3-a95b94393ef1>:2: DeprecationWarning: find_elements_by_* commands are deprecated. Please use find_elements() instead\n",
      "  img = driver.find_elements_by_css_selector(\"img.lazy\")\n"
     ]
    }
   ],
   "source": [
    "# 2. 첫번째 상품의 이미지를 가지고온 후, 클릭\n",
    "img = driver.find_elements_by_css_selector(\"img.lazy\")\n",
    "img[1].click()"
   ]
  },
  {
   "cell_type": "code",
   "execution_count": 4,
   "id": "bc2938b3",
   "metadata": {},
   "outputs": [
    {
     "name": "stderr",
     "output_type": "stream",
     "text": [
      "<ipython-input-4-8a9b59f1e4d5>:3: DeprecationWarning: find_element_by_* commands are deprecated. Please use find_element() instead\n",
      "  title = driver.find_element_by_css_selector(\"h1.itemtit\").text\n",
      "<ipython-input-4-8a9b59f1e4d5>:4: DeprecationWarning: find_element_by_* commands are deprecated. Please use find_element() instead\n",
      "  price = driver.find_element_by_css_selector(\"strong.price_real\").text\n",
      "<ipython-input-4-8a9b59f1e4d5>:5: DeprecationWarning: find_element_by_* commands are deprecated. Please use find_element() instead\n",
      "  cate = driver.find_element_by_css_selector(\"li.on > a\").text\n"
     ]
    }
   ],
   "source": [
    "# 3. 상품명, 가격, 카테고리(마지막) 수집 = 따로따로 총 3개 데이터를 수집\n",
    "#itemcase_basic > div.box__item-title > h1\n",
    "title = driver.find_element_by_css_selector(\"h1.itemtit\").text\n",
    "price = driver.find_element_by_css_selector(\"strong.price_real\").text\n",
    "cate = driver.find_element_by_css_selector(\"li.on > a\").text"
   ]
  },
  {
   "cell_type": "code",
   "execution_count": 5,
   "id": "73602e02",
   "metadata": {},
   "outputs": [],
   "source": [
    "# 4. 뒤로가기 기능\n",
    "driver.back()"
   ]
  },
  {
   "cell_type": "markdown",
   "id": "e7ae2ae0",
   "metadata": {},
   "source": [
    "# 코드 합치기"
   ]
  },
  {
   "cell_type": "code",
   "execution_count": 6,
   "id": "f700c8d3",
   "metadata": {},
   "outputs": [],
   "source": [
    "options = wb.ChromeOptions()\n",
    "options.add_argument('headless')\n",
    "options.add_argument('window-size=1920x1080')\n",
    "options.add_argument(\"disable-gpu\")"
   ]
  },
  {
   "cell_type": "code",
   "execution_count": 7,
   "id": "dfdb0e39",
   "metadata": {},
   "outputs": [
    {
     "name": "stderr",
     "output_type": "stream",
     "text": [
      "<ipython-input-7-50aab6ba1b9c>:1: DeprecationWarning: executable_path has been deprecated, please pass in a Service object\n",
      "  driver = wb.Chrome(\"C:/Users/smhrd/크롤링/chromedriver.exe\", chrome_options = options)\n",
      "<ipython-input-7-50aab6ba1b9c>:1: DeprecationWarning: use options instead of chrome_options\n",
      "  driver = wb.Chrome(\"C:/Users/smhrd/크롤링/chromedriver.exe\", chrome_options = options)\n",
      "<ipython-input-7-50aab6ba1b9c>:10: DeprecationWarning: find_elements_by_* commands are deprecated. Please use find_elements() instead\n",
      "  item = driver.find_elements_by_css_selector(\"img.lazy\")\n",
      "<ipython-input-7-50aab6ba1b9c>:13: DeprecationWarning: find_element_by_* commands are deprecated. Please use find_element() instead\n",
      "  item_name = driver.find_element_by_css_selector(\"h1.itemtit\").text\n",
      "<ipython-input-7-50aab6ba1b9c>:14: DeprecationWarning: find_element_by_* commands are deprecated. Please use find_element() instead\n",
      "  price = driver.find_element_by_css_selector(\"strong.price_real\").text\n",
      "<ipython-input-7-50aab6ba1b9c>:15: DeprecationWarning: find_element_by_* commands are deprecated. Please use find_element() instead\n",
      "  category = driver.find_element_by_css_selector(\"body > div.location-navi > ul > li.on > a\").text\n"
     ]
    },
    {
     "name": "stdout",
     "output_type": "stream",
     "text": [
      "['남성 매장동일 탑텐(TOP10) 기모 조거 팬츠 3종', '(신세계강남점) 네파 2칼라 7H82043 21FW 여성 스카펠 롱기장 다운 자켓', '센소다인 멀티케어 치약 100g x8개', '스케쳐스 신상/베스트 고워크 외 신발모음전 3만원대', 'AP 일리윤 세라마이드 아토 로션 528ml x2개/바디로션']\n",
      "['46,000원', '64,600원', '31,590원', '39,900원', '35,800원']\n",
      "['면팬츠/치노팬츠', '여성등산점퍼', '치약', '스포츠스니커즈', '바디로션']\n"
     ]
    }
   ],
   "source": [
    "driver = wb.Chrome(\"C:/Users/smhrd/크롤링/chromedriver.exe\", chrome_options = options)\n",
    "driver.get(\"http://corners.gmarket.co.kr/Bestsellers\")\n",
    "time.sleep(1)\n",
    " # 수집한 데이터에서 순수한 글자정보만 저장시키기 위해서 리스트를 생성\n",
    "titleList = []\n",
    "priceList = []\n",
    "cateList = []\n",
    "\n",
    "for i in range(5) :\n",
    "    item = driver.find_elements_by_css_selector(\"img.lazy\")\n",
    "    item[i].click()\n",
    "    time.sleep(1)\n",
    "    item_name = driver.find_element_by_css_selector(\"h1.itemtit\").text\n",
    "    price = driver.find_element_by_css_selector(\"strong.price_real\").text\n",
    "    category = driver.find_element_by_css_selector(\"body > div.location-navi > ul > li.on > a\").text\n",
    "    titleList.append(item_name)\n",
    "    priceList.append(price)\n",
    "    cateList.append(category)\n",
    "    driver.back()\n",
    "    time.sleep(1)\n",
    "print(titleList)\n",
    "print(priceList)\n",
    "print(cateList)"
   ]
  },
  {
   "cell_type": "code",
   "execution_count": 8,
   "id": "1a79ec15",
   "metadata": {},
   "outputs": [],
   "source": [
    "dic = {\"상품명\" : titleList, \"가격\" : priceList, \"카테고리\" : cateList}"
   ]
  },
  {
   "cell_type": "code",
   "execution_count": 9,
   "id": "8d8475e1",
   "metadata": {},
   "outputs": [],
   "source": [
    "data = pd.DataFrame(dic)"
   ]
  },
  {
   "cell_type": "code",
   "execution_count": 10,
   "id": "1abbd7cc",
   "metadata": {},
   "outputs": [],
   "source": [
    "data.to_csv(\"지마켓.csv\", encoding=\"euc-kr\")"
   ]
  },
  {
   "cell_type": "code",
   "execution_count": 11,
   "id": "b780f3cc",
   "metadata": {},
   "outputs": [],
   "source": [
    "data.to_html(\"지마켓.html\")"
   ]
  },
  {
   "cell_type": "code",
   "execution_count": null,
   "id": "aa16b390",
   "metadata": {},
   "outputs": [],
   "source": []
  },
  {
   "cell_type": "code",
   "execution_count": null,
   "id": "66df5e4d",
   "metadata": {},
   "outputs": [],
   "source": []
  },
  {
   "cell_type": "code",
   "execution_count": null,
   "id": "9670da38",
   "metadata": {},
   "outputs": [],
   "source": []
  },
  {
   "cell_type": "code",
   "execution_count": null,
   "id": "cb939241",
   "metadata": {},
   "outputs": [],
   "source": []
  },
  {
   "cell_type": "code",
   "execution_count": null,
   "id": "6070e169",
   "metadata": {},
   "outputs": [],
   "source": []
  },
  {
   "cell_type": "code",
   "execution_count": null,
   "id": "dcfd1dbb",
   "metadata": {},
   "outputs": [],
   "source": []
  },
  {
   "cell_type": "code",
   "execution_count": null,
   "id": "f2224772",
   "metadata": {},
   "outputs": [],
   "source": []
  },
  {
   "cell_type": "code",
   "execution_count": null,
   "id": "593bc01c",
   "metadata": {},
   "outputs": [],
   "source": []
  },
  {
   "cell_type": "code",
   "execution_count": null,
   "id": "117507bb",
   "metadata": {},
   "outputs": [],
   "source": []
  },
  {
   "cell_type": "code",
   "execution_count": null,
   "id": "5fee0e9f",
   "metadata": {},
   "outputs": [],
   "source": []
  },
  {
   "cell_type": "code",
   "execution_count": null,
   "id": "32e55dbf",
   "metadata": {},
   "outputs": [],
   "source": []
  },
  {
   "cell_type": "code",
   "execution_count": null,
   "id": "982676d6",
   "metadata": {},
   "outputs": [],
   "source": []
  },
  {
   "cell_type": "code",
   "execution_count": null,
   "id": "3195e8ad",
   "metadata": {},
   "outputs": [],
   "source": []
  },
  {
   "cell_type": "code",
   "execution_count": null,
   "id": "5984fc77",
   "metadata": {},
   "outputs": [],
   "source": []
  },
  {
   "cell_type": "code",
   "execution_count": null,
   "id": "824612d8",
   "metadata": {},
   "outputs": [],
   "source": []
  },
  {
   "cell_type": "code",
   "execution_count": null,
   "id": "b735034f",
   "metadata": {},
   "outputs": [],
   "source": []
  },
  {
   "cell_type": "code",
   "execution_count": null,
   "id": "318dc21d",
   "metadata": {},
   "outputs": [],
   "source": []
  },
  {
   "cell_type": "code",
   "execution_count": null,
   "id": "087f6fe5",
   "metadata": {},
   "outputs": [],
   "source": []
  },
  {
   "cell_type": "code",
   "execution_count": null,
   "id": "0a84440d",
   "metadata": {},
   "outputs": [],
   "source": []
  },
  {
   "cell_type": "code",
   "execution_count": null,
   "id": "0cc91aac",
   "metadata": {},
   "outputs": [],
   "source": []
  },
  {
   "cell_type": "code",
   "execution_count": null,
   "id": "34987163",
   "metadata": {},
   "outputs": [],
   "source": []
  },
  {
   "cell_type": "code",
   "execution_count": null,
   "id": "8fafd26a",
   "metadata": {},
   "outputs": [],
   "source": []
  },
  {
   "cell_type": "code",
   "execution_count": null,
   "id": "d2a62c63",
   "metadata": {},
   "outputs": [],
   "source": []
  },
  {
   "cell_type": "code",
   "execution_count": null,
   "id": "f66aed74",
   "metadata": {},
   "outputs": [],
   "source": []
  },
  {
   "cell_type": "code",
   "execution_count": null,
   "id": "f89225d4",
   "metadata": {},
   "outputs": [],
   "source": []
  },
  {
   "cell_type": "code",
   "execution_count": null,
   "id": "1ce40932",
   "metadata": {},
   "outputs": [],
   "source": []
  },
  {
   "cell_type": "code",
   "execution_count": null,
   "id": "1e72cdb2",
   "metadata": {},
   "outputs": [],
   "source": []
  },
  {
   "cell_type": "code",
   "execution_count": null,
   "id": "26af024f",
   "metadata": {},
   "outputs": [],
   "source": []
  },
  {
   "cell_type": "code",
   "execution_count": null,
   "id": "fee5f471",
   "metadata": {},
   "outputs": [],
   "source": []
  },
  {
   "cell_type": "code",
   "execution_count": null,
   "id": "d0b85955",
   "metadata": {},
   "outputs": [],
   "source": []
  }
 ],
 "metadata": {
  "kernelspec": {
   "display_name": "Python 3",
   "language": "python",
   "name": "python3"
  },
  "language_info": {
   "codemirror_mode": {
    "name": "ipython",
    "version": 3
   },
   "file_extension": ".py",
   "mimetype": "text/x-python",
   "name": "python",
   "nbconvert_exporter": "python",
   "pygments_lexer": "ipython3",
   "version": "3.8.8"
  }
 },
 "nbformat": 4,
 "nbformat_minor": 5
}
