{
 "cells": [
  {
   "cell_type": "markdown",
   "id": "e7fa59cc",
   "metadata": {},
   "source": [
    "# Question2"
   ]
  },
  {
   "cell_type": "code",
   "execution_count": null,
   "id": "cd685986",
   "metadata": {},
   "outputs": [],
   "source": [
    "!pip install selenium"
   ]
  },
  {
   "cell_type": "code",
   "execution_count": null,
   "id": "f046a65d",
   "metadata": {},
   "outputs": [],
   "source": [
    "from selenium import webdriver as wb\n",
    "from selenium.webdriver.common.keys import Keys"
   ]
  },
  {
   "cell_type": "code",
   "execution_count": null,
   "id": "a53424d2",
   "metadata": {},
   "outputs": [],
   "source": [
    "driver = wb.Chrome()\n",
    "driver.get(\"http://www.naver.com\")"
   ]
  },
  {
   "cell_type": "code",
   "execution_count": null,
   "id": "6ee056c7",
   "metadata": {},
   "outputs": [],
   "source": [
    "search = driver.find_element_by_id(\"query\")"
   ]
  },
  {
   "cell_type": "code",
   "execution_count": null,
   "id": "3f2dfbe1",
   "metadata": {},
   "outputs": [],
   "source": [
    "search.send_keys(\"크롤링\")"
   ]
  },
  {
   "cell_type": "code",
   "execution_count": null,
   "id": "a30cbc31",
   "metadata": {},
   "outputs": [],
   "source": [
    "search.send_keys(Keys.ENTER)"
   ]
  },
  {
   "cell_type": "code",
   "execution_count": null,
   "id": "3c4c9fae",
   "metadata": {},
   "outputs": [],
   "source": [
    "driver.back()"
   ]
  },
  {
   "cell_type": "code",
   "execution_count": null,
   "id": "12dc408c",
   "metadata": {},
   "outputs": [],
   "source": [
    "btn = driver.find_element_by_id(\"search_btn\")"
   ]
  },
  {
   "cell_type": "code",
   "execution_count": null,
   "id": "667dac8a",
   "metadata": {},
   "outputs": [],
   "source": [
    "btn.click()"
   ]
  },
  {
   "cell_type": "code",
   "execution_count": null,
   "id": "a0740b23",
   "metadata": {},
   "outputs": [],
   "source": [
    "driver.quit()"
   ]
  },
  {
   "cell_type": "markdown",
   "id": "40813be2",
   "metadata": {},
   "source": [
    "# Question3"
   ]
  },
  {
   "cell_type": "code",
   "execution_count": null,
   "id": "eeb20f89",
   "metadata": {},
   "outputs": [],
   "source": [
    "from selenium import webdriver as wb\n",
    "import pandas as pd\n",
    "import time"
   ]
  },
  {
   "cell_type": "code",
   "execution_count": 2,
   "id": "ac69b53d",
   "metadata": {},
   "outputs": [],
   "source": [
    "driver = wb.Chrome()\n",
    "driver.get(\"http://corners.gmarket.co.kr/Bestsellers\")"
   ]
  },
  {
   "cell_type": "code",
   "execution_count": 3,
   "id": "1d43c090",
   "metadata": {},
   "outputs": [
    {
     "name": "stderr",
     "output_type": "stream",
     "text": [
      "<ipython-input-3-d598841d0a5e>:1: DeprecationWarning: find_elements_by_* commands are deprecated. Please use find_elements() instead\n",
      "  img = driver.find_elements_by_css_selector(\"img.lazy\")\n"
     ]
    }
   ],
   "source": [
    "img = driver.find_elements_by_css_selector(\"img.lazy\")\n",
    "img[1].click()"
   ]
  },
  {
   "cell_type": "code",
   "execution_count": 4,
   "id": "192af01e",
   "metadata": {},
   "outputs": [
    {
     "name": "stderr",
     "output_type": "stream",
     "text": [
      "<ipython-input-4-f931c171cbd4>:1: DeprecationWarning: find_element_by_* commands are deprecated. Please use find_element() instead\n",
      "  title = driver.find_element_by_css_selector(\"h1.itemtit\").text\n",
      "<ipython-input-4-f931c171cbd4>:2: DeprecationWarning: find_element_by_* commands are deprecated. Please use find_element() instead\n",
      "  price = driver.find_element_by_css_selector(\"strong.price_real\").text\n",
      "<ipython-input-4-f931c171cbd4>:3: DeprecationWarning: find_element_by_* commands are deprecated. Please use find_element() instead\n",
      "  cate = driver.find_element_by_css_selector(\"li.on > a\").text\n"
     ]
    }
   ],
   "source": [
    "title = driver.find_element_by_css_selector(\"h1.itemtit\").text\n",
    "price = driver.find_element_by_css_selector(\"strong.price_real\").text\n",
    "cate = driver.find_element_by_css_selector(\"li.on > a\").text"
   ]
  },
  {
   "cell_type": "code",
   "execution_count": 5,
   "id": "00e76396",
   "metadata": {},
   "outputs": [],
   "source": [
    "driver.back()"
   ]
  },
  {
   "cell_type": "code",
   "execution_count": 6,
   "id": "4c41c9a9",
   "metadata": {},
   "outputs": [],
   "source": [
    "options = wb.ChromeOptions()\n",
    "options.add_argument('headless')\n",
    "options.add_argument('window-size=1920x1080')\n",
    "options.add_argument(\"disable-gpu\")"
   ]
  },
  {
   "cell_type": "code",
   "execution_count": 7,
   "id": "f035be18",
   "metadata": {},
   "outputs": [
    {
     "name": "stderr",
     "output_type": "stream",
     "text": [
      "<ipython-input-7-e088b0d4227d>:1: DeprecationWarning: executable_path has been deprecated, please pass in a Service object\n",
      "  driver = wb.Chrome(\"C:/Users/smhrd/크롤링/chromedriver.exe\")\n",
      "<ipython-input-7-e088b0d4227d>:9: DeprecationWarning: find_elements_by_* commands are deprecated. Please use find_elements() instead\n",
      "  item = driver.find_elements_by_css_selector(\"img.lazy\")\n",
      "<ipython-input-7-e088b0d4227d>:12: DeprecationWarning: find_element_by_* commands are deprecated. Please use find_element() instead\n",
      "  item_name = driver.find_element_by_css_selector(\"h1.itemtit\").text\n",
      "<ipython-input-7-e088b0d4227d>:13: DeprecationWarning: find_element_by_* commands are deprecated. Please use find_element() instead\n",
      "  price = driver.find_element_by_css_selector(\"strong.price_real\").text\n",
      "<ipython-input-7-e088b0d4227d>:14: DeprecationWarning: find_element_by_* commands are deprecated. Please use find_element() instead\n",
      "  category = driver.find_element_by_css_selector(\"body > div.location-navi > ul > li.on > a\").text\n"
     ]
    },
    {
     "name": "stdout",
     "output_type": "stream",
     "text": [
      "['센소다인 멀티케어 치약 100g x8개', '(신세계강남점) 네파 2칼라 7H82043 21FW 여성 스카펠 롱기장 다운 자켓', '슈퍼대디x미피 new 프리미엄 물티슈 캡형 70매 20팩', '슈퍼 특가 매장가 비교환영 폴햄키즈 숏패딩', '남성 매장동일 탑텐(TOP10) 기모 조거 팬츠 3종', '모유실감 젖꼭지(6입) (SS/S/M/L/LL/L3)', '16개 Dove 미국 직구 센서티브바 센스티브 뷰티바 스킨 올인원 비누 솝 샴푸 바디워시 106 g 빠른직구', '스케쳐스 신상/베스트 고워크 외 신발모음전 3만원대', '고메 치즈함박스테이크 152g x10개 (냉장)', '3겹 뽑아쓰는 키친타올 100매 X 9팩 키친타월 특가']\n",
      "['31,590원', '64,600원', '26,900원', '36,800원', '46,000원', '28,820원', '32,040원', '39,900원', '19,400원', '9,900원']\n",
      "['치약', '여성등산점퍼', '물티슈', '기타유아동스포츠의류', '면팬츠/치노팬츠', '젖꼭지', '목욕비누', '스포츠스니커즈', '기타축산가공식품', '키친타월']\n"
     ]
    }
   ],
   "source": [
    "driver = wb.Chrome(\"C:/Users/smhrd/크롤링/chromedriver.exe\")\n",
    "driver.get(\"http://corners.gmarket.co.kr/Bestsellers\")\n",
    "time.sleep(1)\n",
    "titleList = []\n",
    "priceList = []\n",
    "cateList = []\n",
    "\n",
    "for i in range(10) :\n",
    "    item = driver.find_elements_by_css_selector(\"img.lazy\")\n",
    "    item[i].click()\n",
    "    time.sleep(1)\n",
    "    item_name = driver.find_element_by_css_selector(\"h1.itemtit\").text\n",
    "    price = driver.find_element_by_css_selector(\"strong.price_real\").text\n",
    "    category = driver.find_element_by_css_selector(\"body > div.location-navi > ul > li.on > a\").text\n",
    "    titleList.append(item_name)\n",
    "    priceList.append(price)\n",
    "    cateList.append(category)\n",
    "    driver.back()\n",
    "    time.sleep(1)\n",
    "print(titleList)\n",
    "print(priceList)\n",
    "print(cateList)"
   ]
  },
  {
   "cell_type": "code",
   "execution_count": 8,
   "id": "4761e691",
   "metadata": {},
   "outputs": [],
   "source": [
    "dic = {\"상품명\" : titleList, \"가격\" : priceList, \"카테고리\" : cateList}"
   ]
  },
  {
   "cell_type": "code",
   "execution_count": 9,
   "id": "ef3f2dea",
   "metadata": {},
   "outputs": [
    {
     "data": {
      "text/html": [
       "<div>\n",
       "<style scoped>\n",
       "    .dataframe tbody tr th:only-of-type {\n",
       "        vertical-align: middle;\n",
       "    }\n",
       "\n",
       "    .dataframe tbody tr th {\n",
       "        vertical-align: top;\n",
       "    }\n",
       "\n",
       "    .dataframe thead th {\n",
       "        text-align: right;\n",
       "    }\n",
       "</style>\n",
       "<table border=\"1\" class=\"dataframe\">\n",
       "  <thead>\n",
       "    <tr style=\"text-align: right;\">\n",
       "      <th></th>\n",
       "      <th>상품명</th>\n",
       "      <th>가격</th>\n",
       "      <th>카테고리</th>\n",
       "    </tr>\n",
       "  </thead>\n",
       "  <tbody>\n",
       "    <tr>\n",
       "      <th>0</th>\n",
       "      <td>센소다인 멀티케어 치약 100g x8개</td>\n",
       "      <td>31,590원</td>\n",
       "      <td>치약</td>\n",
       "    </tr>\n",
       "    <tr>\n",
       "      <th>1</th>\n",
       "      <td>(신세계강남점) 네파 2칼라 7H82043 21FW 여성 스카펠 롱기장 다운 자켓</td>\n",
       "      <td>64,600원</td>\n",
       "      <td>여성등산점퍼</td>\n",
       "    </tr>\n",
       "    <tr>\n",
       "      <th>2</th>\n",
       "      <td>슈퍼대디x미피 new 프리미엄 물티슈 캡형 70매 20팩</td>\n",
       "      <td>26,900원</td>\n",
       "      <td>물티슈</td>\n",
       "    </tr>\n",
       "    <tr>\n",
       "      <th>3</th>\n",
       "      <td>슈퍼 특가 매장가 비교환영 폴햄키즈 숏패딩</td>\n",
       "      <td>36,800원</td>\n",
       "      <td>기타유아동스포츠의류</td>\n",
       "    </tr>\n",
       "    <tr>\n",
       "      <th>4</th>\n",
       "      <td>남성 매장동일 탑텐(TOP10) 기모 조거 팬츠 3종</td>\n",
       "      <td>46,000원</td>\n",
       "      <td>면팬츠/치노팬츠</td>\n",
       "    </tr>\n",
       "    <tr>\n",
       "      <th>5</th>\n",
       "      <td>모유실감 젖꼭지(6입) (SS/S/M/L/LL/L3)</td>\n",
       "      <td>28,820원</td>\n",
       "      <td>젖꼭지</td>\n",
       "    </tr>\n",
       "    <tr>\n",
       "      <th>6</th>\n",
       "      <td>16개 Dove 미국 직구 센서티브바 센스티브 뷰티바 스킨 올인원 비누 솝 샴푸 바...</td>\n",
       "      <td>32,040원</td>\n",
       "      <td>목욕비누</td>\n",
       "    </tr>\n",
       "    <tr>\n",
       "      <th>7</th>\n",
       "      <td>스케쳐스 신상/베스트 고워크 외 신발모음전 3만원대</td>\n",
       "      <td>39,900원</td>\n",
       "      <td>스포츠스니커즈</td>\n",
       "    </tr>\n",
       "    <tr>\n",
       "      <th>8</th>\n",
       "      <td>고메 치즈함박스테이크 152g x10개 (냉장)</td>\n",
       "      <td>19,400원</td>\n",
       "      <td>기타축산가공식품</td>\n",
       "    </tr>\n",
       "    <tr>\n",
       "      <th>9</th>\n",
       "      <td>3겹 뽑아쓰는 키친타올 100매 X 9팩 키친타월 특가</td>\n",
       "      <td>9,900원</td>\n",
       "      <td>키친타월</td>\n",
       "    </tr>\n",
       "  </tbody>\n",
       "</table>\n",
       "</div>"
      ],
      "text/plain": [
       "                                                 상품명       가격        카테고리\n",
       "0                              센소다인 멀티케어 치약 100g x8개  31,590원          치약\n",
       "1      (신세계강남점) 네파 2칼라 7H82043 21FW 여성 스카펠 롱기장 다운 자켓  64,600원      여성등산점퍼\n",
       "2                    슈퍼대디x미피 new 프리미엄 물티슈 캡형 70매 20팩  26,900원         물티슈\n",
       "3                            슈퍼 특가 매장가 비교환영 폴햄키즈 숏패딩  36,800원  기타유아동스포츠의류\n",
       "4                      남성 매장동일 탑텐(TOP10) 기모 조거 팬츠 3종  46,000원    면팬츠/치노팬츠\n",
       "5                      모유실감 젖꼭지(6입) (SS/S/M/L/LL/L3)  28,820원         젖꼭지\n",
       "6  16개 Dove 미국 직구 센서티브바 센스티브 뷰티바 스킨 올인원 비누 솝 샴푸 바...  32,040원        목욕비누\n",
       "7                       스케쳐스 신상/베스트 고워크 외 신발모음전 3만원대  39,900원     스포츠스니커즈\n",
       "8                         고메 치즈함박스테이크 152g x10개 (냉장)  19,400원    기타축산가공식품\n",
       "9                     3겹 뽑아쓰는 키친타올 100매 X 9팩 키친타월 특가   9,900원        키친타월"
      ]
     },
     "execution_count": 9,
     "metadata": {},
     "output_type": "execute_result"
    }
   ],
   "source": [
    "pd.DataFrame(dic)"
   ]
  },
  {
   "cell_type": "code",
   "execution_count": null,
   "id": "d23d2d06",
   "metadata": {},
   "outputs": [],
   "source": [
    "data = pd.DataFrame(dic)"
   ]
  },
  {
   "cell_type": "code",
   "execution_count": null,
   "id": "e6b110e2",
   "metadata": {},
   "outputs": [],
   "source": [
    "data.to_csv(\"지마켓.csv\", encoding=\"euc-kr\")"
   ]
  },
  {
   "cell_type": "code",
   "execution_count": null,
   "id": "fa220e69",
   "metadata": {},
   "outputs": [],
   "source": [
    "data.to_html(\"지마켓.html\")"
   ]
  },
  {
   "cell_type": "markdown",
   "id": "4a96f2a8",
   "metadata": {},
   "source": [
    "# Qusetion4\n",
    "   문제1"
   ]
  },
  {
   "cell_type": "code",
   "execution_count": null,
   "id": "96a47d87",
   "metadata": {},
   "outputs": [],
   "source": [
    "import requests as req\n",
    "from bs4 import BeautifulSoup as bs"
   ]
  },
  {
   "cell_type": "code",
   "execution_count": null,
   "id": "1b323774",
   "metadata": {},
   "outputs": [],
   "source": [
    "req.get(\"https://www.melon.com/chart/index.htm\")"
   ]
  },
  {
   "cell_type": "code",
   "execution_count": null,
   "id": "af8d0657",
   "metadata": {},
   "outputs": [],
   "source": [
    "h = {'User-Agent': 'Mozilla/5.0 (Windows NT 10.0; Win64; x64) AppleWebKit/537.36 (KHTML, like Gecko) Chrome/96.0.4664.45 Safari/537.36'}"
   ]
  },
  {
   "cell_type": "code",
   "execution_count": null,
   "id": "7db855b0",
   "metadata": {},
   "outputs": [],
   "source": [
    "res = req.get(\"https://www.melon.com/chart/index.htm\", headers = h)"
   ]
  },
  {
   "cell_type": "code",
   "execution_count": null,
   "id": "81aa6907",
   "metadata": {},
   "outputs": [],
   "source": [
    "res.text"
   ]
  },
  {
   "cell_type": "code",
   "execution_count": null,
   "id": "b385313b",
   "metadata": {},
   "outputs": [],
   "source": [
    "soup = bs(res.text,\"lxml\")"
   ]
  },
  {
   "cell_type": "code",
   "execution_count": null,
   "id": "0926195d",
   "metadata": {},
   "outputs": [],
   "source": [
    "song = soup.select(\"div.ellipsis.rank01 > span\")"
   ]
  },
  {
   "cell_type": "code",
   "execution_count": null,
   "id": "8184125f",
   "metadata": {},
   "outputs": [],
   "source": [
    "song[0].text.strip()"
   ]
  },
  {
   "cell_type": "code",
   "execution_count": null,
   "id": "c9793670",
   "metadata": {},
   "outputs": [],
   "source": [
    "singer = soup.select(\"div.ellipsis.rank02 > span.checkEllipsis\")"
   ]
  },
  {
   "cell_type": "code",
   "execution_count": null,
   "id": "b0ee9348",
   "metadata": {},
   "outputs": [],
   "source": [
    "len(song)"
   ]
  },
  {
   "cell_type": "code",
   "execution_count": null,
   "id": "92c41de9",
   "metadata": {},
   "outputs": [],
   "source": [
    "len(singer)"
   ]
  },
  {
   "cell_type": "code",
   "execution_count": null,
   "id": "1cf01e6b",
   "metadata": {},
   "outputs": [],
   "source": [
    "singer[0].text.strip()"
   ]
  },
  {
   "cell_type": "code",
   "execution_count": null,
   "id": "3c901b08",
   "metadata": {},
   "outputs": [],
   "source": [
    "for i in song :\n",
    "    print(i.text)"
   ]
  },
  {
   "cell_type": "code",
   "execution_count": null,
   "id": "b337f6ad",
   "metadata": {},
   "outputs": [],
   "source": [
    "for i in singer :\n",
    "    print(i.text)"
   ]
  },
  {
   "cell_type": "code",
   "execution_count": null,
   "id": "61e3b62f",
   "metadata": {},
   "outputs": [],
   "source": [
    "song_list = []\n",
    "singer_list = []\n",
    "rank_list = []\n",
    "for i in range(len(song)) :\n",
    "    song_list.append(song[i].text.strip())\n",
    "    singer_list.append(singer[i].text.strip())\n",
    "    rank_list.append(i+1)"
   ]
  },
  {
   "cell_type": "code",
   "execution_count": null,
   "id": "cfbcfff4",
   "metadata": {},
   "outputs": [],
   "source": [
    "rank_list"
   ]
  },
  {
   "cell_type": "code",
   "execution_count": null,
   "id": "492ae9d5",
   "metadata": {},
   "outputs": [],
   "source": [
    "len(singer_list)"
   ]
  },
  {
   "cell_type": "code",
   "execution_count": null,
   "id": "e1bee61b",
   "metadata": {},
   "outputs": [],
   "source": [
    "import pandas as pd"
   ]
  },
  {
   "cell_type": "code",
   "execution_count": null,
   "id": "8be76e2b",
   "metadata": {},
   "outputs": [],
   "source": [
    "data = {\"가수\" : singer_list, \"노래\" : song_list, \"순위\" : rank_list}"
   ]
  },
  {
   "cell_type": "code",
   "execution_count": null,
   "id": "3a1cb13d",
   "metadata": {},
   "outputs": [],
   "source": [
    "melon = pd.DataFrame(data)"
   ]
  },
  {
   "cell_type": "code",
   "execution_count": null,
   "id": "dea3ae08",
   "metadata": {},
   "outputs": [],
   "source": [
    "melon.set_index(\"순위\", inplace = True)"
   ]
  },
  {
   "cell_type": "code",
   "execution_count": null,
   "id": "ca98344d",
   "metadata": {},
   "outputs": [],
   "source": [
    "melon"
   ]
  },
  {
   "cell_type": "code",
   "execution_count": null,
   "id": "4a60f978",
   "metadata": {},
   "outputs": [],
   "source": [
    "melon.to_csv(\"melon.csv\", encoding =\"euc-kr\")"
   ]
  },
  {
   "cell_type": "markdown",
   "id": "12c67eaf",
   "metadata": {},
   "source": [
    "# Question4\n",
    "   문제2"
   ]
  },
  {
   "cell_type": "code",
   "execution_count": null,
   "id": "db6f5beb",
   "metadata": {},
   "outputs": [],
   "source": [
    "import requests as req\n",
    "from bs4 import BeautifulSoup as bs"
   ]
  },
  {
   "cell_type": "code",
   "execution_count": null,
   "id": "22067ea9",
   "metadata": {},
   "outputs": [],
   "source": [
    "driver = wb.Chrome()\n",
    "driver.get(\"https://www.hsd.co.kr/menu/menu_list\")"
   ]
  },
  {
   "cell_type": "code",
   "execution_count": null,
   "id": "f308f787",
   "metadata": {},
   "outputs": [],
   "source": [
    "title = driver.find_element_by_css_selector(\"h4.h.fz_03\")"
   ]
  },
  {
   "cell_type": "code",
   "execution_count": null,
   "id": "ce73ade9",
   "metadata": {},
   "outputs": [],
   "source": [
    "title2 = driver.find_elements_by_css_selector(\"h4.h.fz_03\")"
   ]
  },
  {
   "cell_type": "code",
   "execution_count": null,
   "id": "73bdad4c",
   "metadata": {},
   "outputs": [],
   "source": [
    "price = driver.find_elements_by_css_selector(\"div.item-price\")"
   ]
  },
  {
   "cell_type": "code",
   "execution_count": null,
   "id": "d1bd3014",
   "metadata": {},
   "outputs": [],
   "source": [
    "price[0].text"
   ]
  },
  {
   "cell_type": "code",
   "execution_count": null,
   "id": "dea14c09",
   "metadata": {},
   "outputs": [],
   "source": [
    "len(title2)"
   ]
  },
  {
   "cell_type": "code",
   "execution_count": null,
   "id": "a56a92f0",
   "metadata": {},
   "outputs": [],
   "source": [
    "for i in range(10) :\n",
    "    btn_more.click()\n",
    "    time.sleep(1)"
   ]
  },
  {
   "cell_type": "code",
   "execution_count": null,
   "id": "7dd40e8c",
   "metadata": {},
   "outputs": [],
   "source": [
    "try :\n",
    "    for i in range(10) :\n",
    "        btn_more.click()\n",
    "        time.sleep(1)\n",
    "except :\n",
    "    print(\"더 이상 클릭할 수 없습니다.\")"
   ]
  },
  {
   "cell_type": "code",
   "execution_count": null,
   "id": "50cc023e",
   "metadata": {},
   "outputs": [],
   "source": [
    "title_list = []\n",
    "price_list = []\n",
    "\n",
    "for i in range(len(price)) :\n",
    "    title_list.append(title2[i].text.strip())\n",
    "    price_list.append(price[i].text.strip())"
   ]
  },
  {
   "cell_type": "code",
   "execution_count": null,
   "id": "9cdd5a44",
   "metadata": {},
   "outputs": [],
   "source": [
    "dic = {\"메뉴\" : title_list, \"가격\" : price_list}"
   ]
  },
  {
   "cell_type": "code",
   "execution_count": null,
   "id": "5a4a719c",
   "metadata": {},
   "outputs": [],
   "source": [
    "pd.DataFrame(dic)"
   ]
  },
  {
   "cell_type": "code",
   "execution_count": null,
   "id": "f1cc0820",
   "metadata": {},
   "outputs": [],
   "source": [
    "\n",
    "driver = wb.Chrome()\n",
    "driver.get(\"https://www.hsd.co.kr/menu/menu_list\")\n",
    "time.sleep(1)\n",
    "btn_more = driver.find_element_by_css_selector(\"a.c_05\")\n",
    "try :\n",
    "    for i in range(10) :\n",
    "        btn_more.click()\n",
    "        time.sleep(1)\n",
    "except :\n",
    "    print(\"더 이상 클릭할 수 없습니다.\")\n",
    "title2 = driver.find_elements_by_css_selector(\"h4.h.fz_03\")\n",
    "price = driver.find_elements_by_css_selector(\"div.item-price\")\n",
    "title_list = []\n",
    "price_list = []\n",
    "\n",
    "for i in range(len(price)) :\n",
    "    title_list.append(title2[i].text.strip())\n",
    "    price_list.append(price[i].text.strip())\n",
    "dic = {\"메뉴\" : title_list, \"가격\" : price_list}\n",
    "food = pd.DataFrame(dic)\n",
    "food.to_csv(\"한솥.csv\", encoding=\"euc-kr\")\n",
    "driver.quit()"
   ]
  },
  {
   "cell_type": "code",
   "execution_count": null,
   "id": "e06b73cc",
   "metadata": {},
   "outputs": [],
   "source": []
  },
  {
   "cell_type": "code",
   "execution_count": null,
   "id": "a191d02f",
   "metadata": {},
   "outputs": [],
   "source": []
  },
  {
   "cell_type": "code",
   "execution_count": null,
   "id": "9241bc51",
   "metadata": {},
   "outputs": [],
   "source": []
  },
  {
   "cell_type": "code",
   "execution_count": null,
   "id": "046c9cbc",
   "metadata": {},
   "outputs": [],
   "source": []
  },
  {
   "cell_type": "code",
   "execution_count": null,
   "id": "b5d30677",
   "metadata": {},
   "outputs": [],
   "source": []
  },
  {
   "cell_type": "code",
   "execution_count": null,
   "id": "d633685c",
   "metadata": {},
   "outputs": [],
   "source": []
  },
  {
   "cell_type": "code",
   "execution_count": null,
   "id": "1ce94c67",
   "metadata": {},
   "outputs": [],
   "source": []
  },
  {
   "cell_type": "code",
   "execution_count": null,
   "id": "9d76741d",
   "metadata": {},
   "outputs": [],
   "source": []
  }
 ],
 "metadata": {
  "kernelspec": {
   "display_name": "Python 3",
   "language": "python",
   "name": "python3"
  },
  "language_info": {
   "codemirror_mode": {
    "name": "ipython",
    "version": 3
   },
   "file_extension": ".py",
   "mimetype": "text/x-python",
   "name": "python",
   "nbconvert_exporter": "python",
   "pygments_lexer": "ipython3",
   "version": "3.8.8"
  }
 },
 "nbformat": 4,
 "nbformat_minor": 5
}
